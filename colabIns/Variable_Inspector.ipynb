{
  "nbformat": 4,
  "nbformat_minor": 0,
  "metadata": {
    "kernelspec": {
      "display_name": "Python 3",
      "language": "python",
      "name": "python3"
    },
    "language_info": {
      "codemirror_mode": {
        "name": "ipython",
        "version": 3
      },
      "file_extension": ".py",
      "mimetype": "text/x-python",
      "name": "python",
      "nbconvert_exporter": "python",
      "pygments_lexer": "ipython3",
      "version": "3.8.5-final"
    },
    "colab": {
      "name": "Variable Inspector.ipynb",
      "provenance": []
    }
  },
  "cells": [
    {
      "cell_type": "code",
      "execution_count": 2,
      "metadata": {},
      "outputs": [
        {
          "output_type": "display_data",
          "data": {
            "text/plain": "HTML(value='<p><a href=\"https://www.w3schools.com/\">Visit W3Schools.com!</a></p>')",
            "application/vnd.jupyter.widget-view+json": {
              "version_major": 2,
              "version_minor": 0,
              "model_id": "6fb705f6042742ce8b526115aa892eb6"
            }
          },
          "metadata": {}
        }
      ],
      "source": [
        "import ipywidgets as widgets\n",
        "widgets.HTML(\"\"\"<p><a href=\"https://www.w3schools.com/\">Visit W3Schools.com!</a></p>\"\"\")"
      ]
    },
    {
      "cell_type": "code",
      "execution_count": 5,
      "metadata": {},
      "outputs": [
        {
          "output_type": "display_data",
          "data": {
            "text/plain": "VBox(children=(Text(value='', description='Search:'), Sheet(cells=(Cell(column_end=0, column_start=0, row_star…",
            "application/vnd.jupyter.widget-view+json": {
              "version_major": 2,
              "version_minor": 0,
              "model_id": "7ad2f7766c2343ffbd67911ab135bc1d"
            }
          },
          "metadata": {}
        }
      ],
      "source": [
        "import numpy as np\n",
        "import pandas as pd\n",
        "from ipysheet import from_dataframe\n",
        "from ipywidgets import Text, VBox, link\n",
        "\n",
        "df = pd.DataFrame({'A': 1.,\n",
        "                   'B': pd.Timestamp('20130102'),\n",
        "                   'C': pd.Series(1, index=list(range(4)), dtype='float32'),\n",
        "                   'D': np.array([False, True, False, False], dtype='bool'),\n",
        "                   'E': pd.Categorical([\"test\", \"train\", \"test\", \"train\"]),\n",
        "                   'F': 'foo'})\n",
        "\n",
        "df.loc[[0, 2], ['B']] = np.nan\n",
        "\n",
        "\n",
        "s = from_dataframe(df)\n",
        "\n",
        "search_box = Text(description='Search:')\n",
        "link((search_box, 'value'), (s, 'search_token'))\n",
        "\n",
        "VBox((search_box, s))"
      ]
    },
    {
      "cell_type": "code",
      "execution_count": null,
      "metadata": {},
      "outputs": [],
      "source": []
    }
  ]
}